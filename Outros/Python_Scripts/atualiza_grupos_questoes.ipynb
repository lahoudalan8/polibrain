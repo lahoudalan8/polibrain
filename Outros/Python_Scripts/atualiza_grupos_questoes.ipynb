{
 "cells": [
  {
   "cell_type": "code",
   "execution_count": 1,
   "metadata": {},
   "outputs": [],
   "source": [
    "import sys\n",
    "sys.path.append('./Tools/')\n",
    "import firebase_admin\n",
    "from firebase_admin import credentials\n",
    "from firebase_admin import firestore\n",
    "import random\n",
    "import google\n",
    "import pandas as pd"
   ]
  },
  {
   "cell_type": "code",
   "execution_count": 2,
   "metadata": {},
   "outputs": [],
   "source": [
    " # Use the application default credentials\n",
    "cred = credentials.Certificate('./Tools/polibrain-24d47-firebase-adminsdk-406ve-1a87461e28.json')\n",
    "firebase_admin.initialize_app(cred, {\n",
    "  'projectId': 'polibrain-24d47',\n",
    "})\n",
    "\n",
    "db = firestore.client()"
   ]
  },
  {
   "cell_type": "code",
   "execution_count": 3,
   "metadata": {},
   "outputs": [],
   "source": [
    "# Pegando o desempenho por questao dos usuarios\n",
    "emailListT2 = []\n",
    "camadaListT2 = []\n",
    "nivelListT2 = []\n",
    "id_questaoList2 = []\n",
    "acertoListT2 = []\n",
    "tempoListT2 = []\n",
    "\n",
    "docs = db.collection(u'usuarios_pont_questoes').get()\n",
    "for doc in docs:\n",
    "    emailListT2.append(doc.to_dict()['email_usr'])\n",
    "    camadaListT2.append(doc.to_dict()['camada'])\n",
    "    nivelListT2.append(doc.to_dict()['nivel'])\n",
    "    id_questaoList2.append(doc.to_dict()['id_questao'])\n",
    "    acertoListT2.append(doc.to_dict()['acerto'])\n",
    "    tempoListT2.append(doc.to_dict()['tempo'])"
   ]
  },
  {
   "cell_type": "code",
   "execution_count": 4,
   "metadata": {},
   "outputs": [],
   "source": [
    "df_usr_questoes = pd.DataFrame(data = {'email_usr':emailListT2, 'camada':camadaListT2, 'nivel':nivelListT2, 'id_questao':id_questaoList2, 'acerto':acertoListT2, 'tempo':tempoListT2})"
   ]
  },
  {
   "cell_type": "code",
   "execution_count": 5,
   "metadata": {},
   "outputs": [],
   "source": [
    "df_clustering = df_usr_questoes.groupby(['camada','nivel','id_questao']).mean()[['acerto','tempo']].reset_index()"
   ]
  },
  {
   "cell_type": "code",
   "execution_count": 6,
   "metadata": {},
   "outputs": [
    {
     "data": {
      "text/html": [
       "<div>\n",
       "<style scoped>\n",
       "    .dataframe tbody tr th:only-of-type {\n",
       "        vertical-align: middle;\n",
       "    }\n",
       "\n",
       "    .dataframe tbody tr th {\n",
       "        vertical-align: top;\n",
       "    }\n",
       "\n",
       "    .dataframe thead th {\n",
       "        text-align: right;\n",
       "    }\n",
       "</style>\n",
       "<table border=\"1\" class=\"dataframe\">\n",
       "  <thead>\n",
       "    <tr style=\"text-align: right;\">\n",
       "      <th></th>\n",
       "      <th>camada</th>\n",
       "      <th>nivel</th>\n",
       "      <th>id_questao</th>\n",
       "      <th>acerto</th>\n",
       "      <th>tempo</th>\n",
       "    </tr>\n",
       "  </thead>\n",
       "  <tbody>\n",
       "    <tr>\n",
       "      <th>0</th>\n",
       "      <td>1</td>\n",
       "      <td>1</td>\n",
       "      <td>002</td>\n",
       "      <td>1.0</td>\n",
       "      <td>7.0</td>\n",
       "    </tr>\n",
       "    <tr>\n",
       "      <th>1</th>\n",
       "      <td>1</td>\n",
       "      <td>1</td>\n",
       "      <td>004</td>\n",
       "      <td>1.0</td>\n",
       "      <td>9.0</td>\n",
       "    </tr>\n",
       "    <tr>\n",
       "      <th>2</th>\n",
       "      <td>1</td>\n",
       "      <td>1</td>\n",
       "      <td>007</td>\n",
       "      <td>1.0</td>\n",
       "      <td>4.0</td>\n",
       "    </tr>\n",
       "    <tr>\n",
       "      <th>3</th>\n",
       "      <td>1</td>\n",
       "      <td>1</td>\n",
       "      <td>008</td>\n",
       "      <td>1.0</td>\n",
       "      <td>3.0</td>\n",
       "    </tr>\n",
       "    <tr>\n",
       "      <th>4</th>\n",
       "      <td>1</td>\n",
       "      <td>1</td>\n",
       "      <td>009</td>\n",
       "      <td>1.0</td>\n",
       "      <td>6.0</td>\n",
       "    </tr>\n",
       "  </tbody>\n",
       "</table>\n",
       "</div>"
      ],
      "text/plain": [
       "   camada  nivel id_questao  acerto  tempo\n",
       "0       1      1        002     1.0    7.0\n",
       "1       1      1        004     1.0    9.0\n",
       "2       1      1        007     1.0    4.0\n",
       "3       1      1        008     1.0    3.0\n",
       "4       1      1        009     1.0    6.0"
      ]
     },
     "execution_count": 6,
     "metadata": {},
     "output_type": "execute_result"
    }
   ],
   "source": [
    "df_clustering.head()"
   ]
  },
  {
   "cell_type": "code",
   "execution_count": 7,
   "metadata": {},
   "outputs": [
    {
     "name": "stdout",
     "output_type": "stream",
     "text": [
      "Problema na camada 1 e no nível 3\n",
      "Problema na camada 2 e no nível 5\n",
      "Problema na camada 2 e no nível 6\n",
      "Problema na camada 3 e no nível 2\n",
      "Problema na camada 3 e no nível 4\n",
      "Problema na camada 3 e no nível 5\n",
      "Problema na camada 3 e no nível 6\n",
      "Problema na camada 3 e no nível 3\n"
     ]
    },
    {
     "name": "stderr",
     "output_type": "stream",
     "text": [
      "/home/alan/.local/lib/python2.7/site-packages/sklearn/cluster/k_means_.py:968: ConvergenceWarning: Number of distinct clusters (9) found smaller than n_clusters (10). Possibly due to duplicate points in X.\n",
      "  return_n_iter=True)\n"
     ]
    }
   ],
   "source": [
    "from sklearn import cluster\n",
    "from sklearn import preprocessing\n",
    "import numpy as np\n",
    "import pdb\n",
    "\n",
    "num_clusters = 10\n",
    "\n",
    "\n",
    "df_clustering_total = pd.DataFrame(data = {})\n",
    "for cam in df_clustering['camada'].unique():\n",
    "    for niv in df_clustering['nivel'].unique():\n",
    "        try:\n",
    "            df_clustering_util = df_clustering[(df_clustering['camada']==cam) & (df_clustering['nivel']==niv)]\n",
    "            df_questoes_scaled = pd.DataFrame(data = preprocessing.scale(df_clustering_util[['acerto', 'tempo']]), columns = ['acerto', 'tempo'])\n",
    "            kmeans = cluster.KMeans(n_clusters=num_clusters).fit(df_questoes_scaled)\n",
    "            df_questoes_scaled['grupo'] = kmeans.predict(df_questoes_scaled).tolist()\n",
    "            df_questoes_scaled['camada'] = df_clustering_util['camada'].tolist()\n",
    "            df_questoes_scaled['nivel'] = df_clustering_util['nivel'].tolist()\n",
    "            df_questoes_scaled['id_questao'] = df_clustering_util['id_questao'].tolist()\n",
    "            \n",
    "            df_aux = pd.DataFrame(data = kmeans.cluster_centers_, columns = ['ca','ct'])\n",
    "            df_aux['pont'] = (3*df_aux['ca'] - df_aux['ct'])/4\n",
    "            df_aux['grupo'] = np.arange(0,num_clusters,1).tolist()\n",
    "            df_aux = df_aux.sort_values(by = 'pont', ascending=False)\n",
    "            df_aux['grupo_novo'] = np.arange(1,num_clusters+1,1).tolist()\n",
    "            df_aux = df_aux[['grupo','grupo_novo']]\n",
    "            df_questoes_scaled = df_questoes_scaled.merge(df_aux, on = 'grupo', how = 'inner')\n",
    "            \n",
    "            df_clustering_total = pd.concat([df_clustering_total, df_questoes_scaled])\n",
    "        except:\n",
    "            print(\"Problema na camada \" + str(cam) + \" e no nível \" + str(niv))"
   ]
  },
  {
   "cell_type": "code",
   "execution_count": 8,
   "metadata": {},
   "outputs": [],
   "source": [
    "df_clustering_total = df_clustering_total[['camada','nivel','id_questao','grupo_novo']]"
   ]
  },
  {
   "cell_type": "code",
   "execution_count": 9,
   "metadata": {},
   "outputs": [
    {
     "data": {
      "text/html": [
       "<div>\n",
       "<style scoped>\n",
       "    .dataframe tbody tr th:only-of-type {\n",
       "        vertical-align: middle;\n",
       "    }\n",
       "\n",
       "    .dataframe tbody tr th {\n",
       "        vertical-align: top;\n",
       "    }\n",
       "\n",
       "    .dataframe thead th {\n",
       "        text-align: right;\n",
       "    }\n",
       "</style>\n",
       "<table border=\"1\" class=\"dataframe\">\n",
       "  <thead>\n",
       "    <tr style=\"text-align: right;\">\n",
       "      <th></th>\n",
       "      <th>camada</th>\n",
       "      <th>nivel</th>\n",
       "      <th>id_questao</th>\n",
       "      <th>grupo_novo</th>\n",
       "    </tr>\n",
       "  </thead>\n",
       "  <tbody>\n",
       "    <tr>\n",
       "      <th>0</th>\n",
       "      <td>1</td>\n",
       "      <td>1</td>\n",
       "      <td>002</td>\n",
       "      <td>2</td>\n",
       "    </tr>\n",
       "    <tr>\n",
       "      <th>1</th>\n",
       "      <td>1</td>\n",
       "      <td>1</td>\n",
       "      <td>009</td>\n",
       "      <td>2</td>\n",
       "    </tr>\n",
       "    <tr>\n",
       "      <th>2</th>\n",
       "      <td>1</td>\n",
       "      <td>1</td>\n",
       "      <td>019</td>\n",
       "      <td>2</td>\n",
       "    </tr>\n",
       "    <tr>\n",
       "      <th>3</th>\n",
       "      <td>1</td>\n",
       "      <td>1</td>\n",
       "      <td>033</td>\n",
       "      <td>2</td>\n",
       "    </tr>\n",
       "    <tr>\n",
       "      <th>4</th>\n",
       "      <td>1</td>\n",
       "      <td>1</td>\n",
       "      <td>041</td>\n",
       "      <td>2</td>\n",
       "    </tr>\n",
       "  </tbody>\n",
       "</table>\n",
       "</div>"
      ],
      "text/plain": [
       "   camada  nivel id_questao  grupo_novo\n",
       "0       1      1        002           2\n",
       "1       1      1        009           2\n",
       "2       1      1        019           2\n",
       "3       1      1        033           2\n",
       "4       1      1        041           2"
      ]
     },
     "execution_count": 9,
     "metadata": {},
     "output_type": "execute_result"
    }
   ],
   "source": [
    "df_clustering_total.head()"
   ]
  },
  {
   "cell_type": "code",
   "execution_count": 10,
   "metadata": {},
   "outputs": [],
   "source": [
    "camadas_dict = {1:'mat_bas',2:'fracoes',3:'equacoes'}\n",
    "niveis_dict = {(1,1):'soma',(1,2):'subtracao',(1,3):'expressoes1',(1,4):'expressoes2',(1,5):'multiplicacao',(1,6):'divisao',\n",
    "              (2,1):'mdc',(2,2):'mmc',(2,3):'irredutiveis',(2,4):'somafrac',(2,5):'multfrac',(2,6):'divfrac',\n",
    "              (3,1):'1grau'}"
   ]
  },
  {
   "cell_type": "code",
   "execution_count": 11,
   "metadata": {},
   "outputs": [
    {
     "data": {
      "text/plain": [
       "1"
      ]
     },
     "execution_count": 11,
     "metadata": {},
     "output_type": "execute_result"
    }
   ],
   "source": [
    "df_clustering_total['camada'].tolist()[0]"
   ]
  },
  {
   "cell_type": "code",
   "execution_count": 12,
   "metadata": {},
   "outputs": [],
   "source": [
    "for i in range (0,df_clustering_total.shape[0]):\n",
    "    c = df_clustering_total['camada'].tolist()[i]\n",
    "    n = df_clustering_total['nivel'].tolist()[i]\n",
    "    idq = df_clustering_total['id_questao'].tolist()[i]\n",
    "    g = df_clustering_total['grupo_novo'].tolist()[i]\n",
    "    questoes_ref = db.collection('questoes_mat').document(camadas_dict[c]).collection(niveis_dict[c,n]).document(idq)\n",
    "    questoes_ref.update({u'grupo': g})"
   ]
  }
 ],
 "metadata": {
  "kernelspec": {
   "display_name": "Python 2",
   "language": "python",
   "name": "python2"
  },
  "language_info": {
   "codemirror_mode": {
    "name": "ipython",
    "version": 2
   },
   "file_extension": ".py",
   "mimetype": "text/x-python",
   "name": "python",
   "nbconvert_exporter": "python",
   "pygments_lexer": "ipython2",
   "version": "2.7.15rc1"
  }
 },
 "nbformat": 4,
 "nbformat_minor": 2
}
