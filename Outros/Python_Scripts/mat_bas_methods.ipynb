{
 "cells": [
  {
   "cell_type": "code",
   "execution_count": null,
   "metadata": {},
   "outputs": [],
   "source": [
    "def random_numbers(qde, list_lim_inf, list_lim_sup):\n",
    "    '''\n",
    "    Retorna algumas listas de inteiros. O numero de listas\n",
    "    se associa a qde. Cada inteiro estará dentro\n",
    "    de um limite estipulado dados como argumento\n",
    "    '''\n",
    "    lista_total = []\n",
    "    for j in range(0,tamanho):\n",
    "        lista = []\n",
    "        for i in range(0,qde[j]):\n",
    "            x = random.randint(list_lim_inf[j],list_lim_sup[j])\n",
    "            lista.append(x)\n",
    "        lista_total.append(lista)  \n",
    "    return lista_total   "
   ]
  },
  {
   "cell_type": "code",
   "execution_count": 26,
   "metadata": {},
   "outputs": [],
   "source": [
    "def soma(a, b, n):\n",
    "    '''\n",
    "    Funcao recebe duas strings numericas e retorna uma string\n",
    "    a partir de um float ou inteiro, a dendender do resultado final.\n",
    "    Caso seja um float, é limitado em n casas decimais\n",
    "    '''\n",
    "    c = round(float(a) + float(b), n)\n",
    "    if c.is_integer():\n",
    "        c = int(c)\n",
    "    return str(c)"
   ]
  },
  {
   "cell_type": "code",
   "execution_count": null,
   "metadata": {},
   "outputs": [],
   "source": [
    "def subtracao(a, b, n):\n",
    "    '''\n",
    "    Funcao recebe duas strings numericas e retorna uma string\n",
    "    a partir de um float ou inteiro, a dendender do resultado final.\n",
    "    Caso seja um float, é limitado em n casas decimais\n",
    "    '''\n",
    "    c = round(float(a) - float(b), n)\n",
    "    if c.is_integer():\n",
    "        c = int(c)\n",
    "    return str(c)"
   ]
  },
  {
   "cell_type": "code",
   "execution_count": 27,
   "metadata": {},
   "outputs": [],
   "source": [
    "def multiplicacao(a, b, n):\n",
    "    '''\n",
    "    Funcao recebe duas strings numericas e retorna uma string\n",
    "    a partir de um float ou inteiro, a dendender do resultado final.\n",
    "    Caso seja um float, é limitado em n casas decimais\n",
    "    '''\n",
    "    c = round(float(a) * float(b), n)\n",
    "    if c.is_integer():\n",
    "        c = int(c)\n",
    "    return str(c)"
   ]
  },
  {
   "cell_type": "code",
   "execution_count": 32,
   "metadata": {},
   "outputs": [],
   "source": [
    "def divisao(a, b, n):\n",
    "    '''\n",
    "    Funcao recebe duas strings numericas e retorna uma string\n",
    "    a partir de um float ou inteiro, a dendender do resultado final.\n",
    "    Caso seja um float, é limitado em n casas decimais\n",
    "    '''\n",
    "    c = round(float(a) / float(b), n)\n",
    "    if c.is_integer():\n",
    "        c = int(c)\n",
    "    return str(c)"
   ]
  }
 ],
 "metadata": {
  "kernelspec": {
   "display_name": "Python 3",
   "language": "python",
   "name": "python3"
  },
  "language_info": {
   "codemirror_mode": {
    "name": "ipython",
    "version": 3
   },
   "file_extension": ".py",
   "mimetype": "text/x-python",
   "name": "python",
   "nbconvert_exporter": "python",
   "pygments_lexer": "ipython3",
   "version": "3.6.5"
  }
 },
 "nbformat": 4,
 "nbformat_minor": 2
}
