{
 "cells": [
  {
   "cell_type": "code",
   "execution_count": 1,
   "metadata": {},
   "outputs": [],
   "source": [
    "import firebase_admin\n",
    "from firebase_admin import credentials\n",
    "from firebase_admin import firestore\n",
    "import random\n",
    "import mat_bas_methods as bas"
   ]
  },
  {
   "cell_type": "code",
   "execution_count": 2,
   "metadata": {},
   "outputs": [],
   "source": [
    " # Use the application default credentials\n",
    "cred = credentials.Certificate('polibrain-24d47-firebase-adminsdk-406ve-1a87461e28.json')\n",
    "firebase_admin.initialize_app(cred, {\n",
    "  'projectId': 'polibrain-24d47',\n",
    "})\n",
    "\n",
    "db = firestore.client()"
   ]
  },
  {
   "cell_type": "code",
   "execution_count": 3,
   "metadata": {},
   "outputs": [],
   "source": [
    "# Escolha dos inputs\n",
    "[a1, a2, a3, a4, a5, a6] = bas.random_numbers(qde=[50, 50, 50, 50, 50, 50], list_lim_inf=[0, 0, 10, 10, 100, 100], list_lim_sup=[10, 100, 100, 1000, 1000, 1000])\n",
    "[b1, b2, b3, b4, b5, b6] = bas.random_numbers(qde=[50, 50, 50, 50, 50, 50], list_lim_inf=[0, 0, 10, 10, 100, 100], list_lim_sup=[10, 100, 100, 1000, 1000, 1000])\n",
    "a = a1 + a2 + a3 + a4 + a5 + a6\n",
    "b = b1 + b2 + b3 + b4 + b5 + b6"
   ]
  },
  {
   "cell_type": "code",
   "execution_count": 4,
   "metadata": {},
   "outputs": [],
   "source": [
    "# Calculo do resultado\n",
    "c = [x + y for x, y in zip(a, b)]"
   ]
  },
  {
   "cell_type": "code",
   "execution_count": 5,
   "metadata": {},
   "outputs": [],
   "source": [
    "# Escrita do enunciado\n",
    "enunciado = []\n",
    "probsE = [0.5, 1.0]\n",
    "for i in range(0,len(c)):\n",
    "    alphaE = float(random.randint(0,100))/100\n",
    "    if alphaE<probsE[0]:\n",
    "        enunciado.append(\"Calcule a seguinte expressão: $$\" + str(a[i]) + \" + \" + str(b[i]) + \"$$\")\n",
    "    else:\n",
    "        enunciado.append(\"Calcule a soma: $\" + str(a[i]) + \" + \" + str(b[i]) + \"$\")"
   ]
  },
  {
   "cell_type": "code",
   "execution_count": 6,
   "metadata": {},
   "outputs": [],
   "source": [
    "# Outras alternativas\n",
    "alt1 = []\n",
    "alt2 = []\n",
    "alt3 = []\n",
    "alt4 = []\n",
    "alt_correta = []\n",
    "for i in range(0, len(c)):\n",
    "    alt = []\n",
    "    while (alt == [] or len(list(set(alt)))<6):\n",
    "        alt = []\n",
    "        if int(c[i]/10) < 3:\n",
    "            alt.append(c[i] + random.randint(1,9))\n",
    "            alt.append(c[i] + random.randint(1,5))\n",
    "            alt.append(c[i] + random.randint(1,3))\n",
    "            alt.append(c[i] - random.randint(1,6))\n",
    "            alt.append(c[i] - random.randint(1,4))\n",
    "            alt.append(c[i] - random.randint(1,2))\n",
    "        elif int(c[i]/10) < 30:\n",
    "            alt.append(c[i] + 1*random.randint(1,9))\n",
    "            alt.append(c[i] + 10*random.randint(1,4))\n",
    "            alt.append(c[i] + 10*random.randint(1,2))\n",
    "            alt.append(c[i] - 1*random.randint(1,9))\n",
    "            alt.append(c[i] - 10*random.randint(1,4))\n",
    "            alt.append(c[i] - 10*random.randint(1,2))\n",
    "        elif int(c[i]/10) < 300:\n",
    "            alt.append(c[i] + 10*random.randint(1,9))\n",
    "            alt.append(c[i] + 10*random.randint(1,5))\n",
    "            alt.append(c[i] + 100*random.randint(1,3))\n",
    "            alt.append(c[i] - 10*random.randint(1,9))\n",
    "            alt.append(c[i] - 10*random.randint(1,5))\n",
    "            alt.append(c[i] - 100*random.randint(1,3))\n",
    "        else:\n",
    "            alt.append(c[i] + 10*random.randint(1,9))\n",
    "            alt.append(c[i] + 100*random.randint(1,5))\n",
    "            alt.append(c[i] + 1000*random.randint(1,2))\n",
    "            alt.append(c[i] - 10*random.randint(1,9))\n",
    "            alt.append(c[i] - 100*random.randint(1,5))\n",
    "            alt.append(c[i] - 1000*random.randint(1,2))\n",
    "        \n",
    "    del(alt[random.randint(0,5)])\n",
    "    del(alt[random.randint(0,4)])\n",
    "    del(alt[random.randint(0,3)])\n",
    "    alt.append(c[i])\n",
    "    random.shuffle(alt)\n",
    "    alt_correta.append(alt.index(c[i]) + 1)\n",
    "    alt1.append(alt[0])\n",
    "    alt2.append(alt[1])\n",
    "    alt3.append(alt[2])\n",
    "    alt4.append(alt[3])"
   ]
  },
  {
   "cell_type": "code",
   "execution_count": 7,
   "metadata": {},
   "outputs": [],
   "source": [
    "# Colocando questoes no banco\n",
    "import sys  \n",
    "\n",
    "reload(sys)  \n",
    "sys.setdefaultencoding('utf8')\n",
    "\n",
    "for i in range(0,len(c)):\n",
    "    doc_ref = db.collection(u'questoes_mat').document('mat_bas').collection('soma').document(format(i, \"03\"))\n",
    "    doc_ref.set({\n",
    "        u'camada': 1,\n",
    "        u'nivel': 1,\n",
    "        u'enunciado': unicode(enunciado[i]),\n",
    "        u'alt_a': unicode('$' + str(alt1[i]) + '$'),\n",
    "        u'alt_b': unicode('$' + str(alt2[i]) + '$'),\n",
    "        u'alt_c': unicode('$' + str(alt3[i]) + '$'),\n",
    "        u'alt_d': unicode('$' + str(alt4[i]) + '$'),\n",
    "        u'alt_correta': alt_correta[i],\n",
    "        u'tentativas': 0,\n",
    "        u'acertos': 0,\n",
    "        u'facilidade': 50\n",
    "    })"
   ]
  },
  {
   "cell_type": "code",
   "execution_count": 8,
   "metadata": {},
   "outputs": [],
   "source": [
    "import google\n",
    "\n",
    "doc_ref = db.collection(u'questoes_mat').document(u'mat_bas').collection('soma').document(format(10, \"03\"))\n",
    "\n",
    "try:\n",
    "    doc = doc_ref.get()\n",
    "    print(u'Document data: {}'.format(doc.to_dict()))\n",
    "except google.cloud.exceptions.NotFound:\n",
    "    print(u'No such document!')"
   ]
  },
  {
   "cell_type": "code",
   "execution_count": 9,
   "metadata": {},
   "outputs": [
    {
     "data": {
      "text/plain": [
       "True"
      ]
     },
     "execution_count": 9,
     "metadata": {},
     "output_type": "execute_result"
    }
   ],
   "source": [
    "[-1, 2, 5, 10]>0"
   ]
  },
  {
   "cell_type": "code",
   "execution_count": 10,
   "metadata": {},
   "outputs": [
    {
     "data": {
      "text/plain": [
       "2"
      ]
     },
     "execution_count": 10,
     "metadata": {},
     "output_type": "execute_result"
    }
   ],
   "source": [
    "random.randint(0,5)"
   ]
  }
 ],
 "metadata": {
  "kernelspec": {
   "display_name": "Python 2",
   "language": "python",
   "name": "python2"
  },
  "language_info": {
   "codemirror_mode": {
    "name": "ipython",
    "version": 2
   },
   "file_extension": ".py",
   "mimetype": "text/x-python",
   "name": "python",
   "nbconvert_exporter": "python",
   "pygments_lexer": "ipython2",
   "version": "2.7.15rc1"
  }
 },
 "nbformat": 4,
 "nbformat_minor": 2
}
