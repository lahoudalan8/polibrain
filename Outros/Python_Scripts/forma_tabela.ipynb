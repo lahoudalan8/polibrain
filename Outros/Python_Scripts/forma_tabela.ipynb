{
 "cells": [
  {
   "cell_type": "code",
   "execution_count": 3,
   "metadata": {},
   "outputs": [],
   "source": [
    "import firebase_admin\n",
    "from firebase_admin import credentials\n",
    "from firebase_admin import firestore\n",
    "import random\n",
    "import google"
   ]
  },
  {
   "cell_type": "code",
   "execution_count": 2,
   "metadata": {},
   "outputs": [],
   "source": [
    " # Use the application default credentials\n",
    "cred = credentials.Certificate('polibrain-24d47-firebase-adminsdk-406ve-1a87461e28.json')\n",
    "firebase_admin.initialize_app(cred, {\n",
    "  'projectId': 'polibrain-24d47',\n",
    "})\n",
    "\n",
    "db = firestore.client()"
   ]
  },
  {
   "cell_type": "code",
   "execution_count": 6,
   "metadata": {},
   "outputs": [
    {
     "name": "stdout",
     "output_type": "stream",
     "text": [
      "No such document!\n"
     ]
    }
   ],
   "source": [
    "doc_ref = db.collection(u'questoes_mat').document(u'mat_bas').collection('subtracao').document(format(10, \"03\"))\n",
    "try:\n",
    "    doc = doc_ref.get()\n",
    "    print(u'Document data: {}'.format(doc.to_dict()))\n",
    "except google.cloud.exceptions.NotFound:\n",
    "    print(u'No such document!')"
   ]
  },
  {
   "cell_type": "code",
   "execution_count": null,
   "metadata": {},
   "outputs": [],
   "source": []
  }
 ],
 "metadata": {
  "kernelspec": {
   "display_name": "Python 2",
   "language": "python",
   "name": "python2"
  },
  "language_info": {
   "codemirror_mode": {
    "name": "ipython",
    "version": 2
   },
   "file_extension": ".py",
   "mimetype": "text/x-python",
   "name": "python",
   "nbconvert_exporter": "python",
   "pygments_lexer": "ipython2",
   "version": "2.7.15rc1"
  }
 },
 "nbformat": 4,
 "nbformat_minor": 2
}
