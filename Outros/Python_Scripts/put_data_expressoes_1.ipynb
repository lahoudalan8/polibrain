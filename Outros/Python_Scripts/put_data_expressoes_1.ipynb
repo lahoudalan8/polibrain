{
 "cells": [
  {
   "cell_type": "code",
   "execution_count": 1,
   "metadata": {},
   "outputs": [],
   "source": [
    "import firebase_admin\n",
    "from firebase_admin import credentials\n",
    "from firebase_admin import firestore\n",
    "import random\n",
    "import mat_bas_methods as bas"
   ]
  },
  {
   "cell_type": "code",
   "execution_count": 2,
   "metadata": {},
   "outputs": [],
   "source": [
    " # Use the application default credentials\n",
    "cred = credentials.Certificate('polibrain-24d47-firebase-adminsdk-406ve-1a87461e28.json')\n",
    "firebase_admin.initialize_app(cred, {\n",
    "  'projectId': 'polibrain-24d47',\n",
    "})\n",
    "\n",
    "db = firestore.client()"
   ]
  },
  {
   "cell_type": "code",
   "execution_count": 3,
   "metadata": {},
   "outputs": [],
   "source": [
    "camada = 1\n",
    "nivel = 3\n",
    "nome_camada = 'mat_bas'\n",
    "nome_nivel = 'expressoes1'"
   ]
  },
  {
   "cell_type": "code",
   "execution_count": 4,
   "metadata": {},
   "outputs": [],
   "source": [
    "# Escolha dos inputs\n",
    "[a1, a2, a3, a4, a5, a6] = bas.random_numbers(qde=[50, 50, 50, 50, 50, 50], list_lim_inf=[0, 0, 10, 10, 100, 100], list_lim_sup=[10, 100, 100, 1000, 1000, 1000])\n",
    "[b1, b2, b3, b4, b5, b6] = bas.random_numbers(qde=[50, 50, 50, 50, 50, 50], list_lim_inf=[0, 0, 10, 10, 100, 100], list_lim_sup=[10, 100, 100, 1000, 1000, 1000])\n",
    "[c1, c2, c3, c4, c5, c6] = bas.random_numbers(qde=[50, 50, 50, 50, 50, 50], list_lim_inf=[0, 0, 10, 10, 100, 100], list_lim_sup=[10, 100, 100, 1000, 1000, 1000])\n",
    "[d1, d2, d3, d4, d5, d6] = bas.random_numbers(qde=[50, 50, 50, 50, 50, 50], list_lim_inf=[0, 0, 10, 10, 100, 100], list_lim_sup=[10, 100, 100, 1000, 1000, 1000])\n",
    "[e1, e2, e3, e4, e5, e6] = bas.random_numbers(qde=[50, 50, 50, 50, 50, 50], list_lim_inf=[0, 0, 10, 10, 100, 100], list_lim_sup=[10, 100, 100, 1000, 1000, 1000])\n",
    "[f1, f2, f3, f4, f5, f6] = bas.random_numbers(qde=[50, 50, 50, 50, 50, 50], list_lim_inf=[0, 0, 10, 10, 100, 100], list_lim_sup=[10, 100, 100, 1000, 1000, 1000])\n",
    "\n",
    "\n",
    "s = bas.random_sinal_neg_pos(300, 5)\n",
    "\n",
    "a = a1 + a2 + a3 + a4 + a5 + a6\n",
    "b = b1 + b2 + b3 + b4 + b5 + b6\n",
    "c = c1 + c2 + c3 + c4 + c5 + c6\n",
    "d = d1 + d2 + d3 + d4 + d5 + d6\n",
    "e = e1 + e2 + e3 + e4 + e5 + e6\n",
    "f = f1 + f2 + f3 + f4 + f5 + f6\n",
    "\n",
    "termo = []\n",
    "termo.append(a)\n",
    "termo.append(b)\n",
    "termo.append(c)\n",
    "termo.append(d)\n",
    "termo.append(e)\n",
    "termo.append(f)"
   ]
  },
  {
   "cell_type": "code",
   "execution_count": 5,
   "metadata": {},
   "outputs": [],
   "source": [
    "# Calculo do resultado e do enunciado\n",
    "termos = random.randint(3,6)\n",
    "r = []\n",
    "enunciado = []\n",
    "\n",
    "for q in range(0,len(a)):\n",
    "    resultado = termo[0][q]\n",
    "    e = \"Calcule a seguinte expressão: $$\" + str(termo[0][q])\n",
    "    for t in range(1, termos):\n",
    "        if s[t-1][q] == 0:\n",
    "            e = e + \"+\" + str(termo[t][q])\n",
    "            resultado = resultado + termo[t][q]\n",
    "        else:\n",
    "            e = e + \"-\" + str(termo[t][q])\n",
    "            resultado = resultado - termo[t][q]\n",
    "    e = e + \"$$\"        \n",
    "    r.append(resultado)\n",
    "    enunciado.append(e)"
   ]
  },
  {
   "cell_type": "code",
   "execution_count": 6,
   "metadata": {},
   "outputs": [],
   "source": [
    "# Outras alternativas\n",
    "alt1 = []\n",
    "alt2 = []\n",
    "alt3 = []\n",
    "alt4 = []\n",
    "alt_correta = []\n",
    "for i in range(0, len(r)):\n",
    "    alt = []\n",
    "    negativos = 1\n",
    "    while (alt == [] or len(list(set(alt)))<4):\n",
    "        alt = []\n",
    "        if int(r[i]/10) < 3:\n",
    "            alt.append(r[i] + random.randint(1,9))\n",
    "            alt.append(r[i] + random.randint(1,5))\n",
    "            alt.append(r[i] + random.randint(1,3))\n",
    "            alt.append(r[i] - random.randint(1,6))\n",
    "            alt.append(r[i] - random.randint(1,4))\n",
    "            alt.append(r[i] - random.randint(1,2))\n",
    "        elif int(r[i]/10) < 30:\n",
    "            alt.append(r[i] + 1*random.randint(1,9))\n",
    "            alt.append(r[i] + 10*random.randint(1,4))\n",
    "            alt.append(r[i] + 10*random.randint(1,2))\n",
    "            alt.append(r[i] - 1*random.randint(1,9))\n",
    "            alt.append(r[i] - 10*random.randint(1,4))\n",
    "            alt.append(r[i] - 10*random.randint(1,2))\n",
    "        elif int(r[i]/10) < 300:\n",
    "            alt.append(r[i] + 10*random.randint(1,9))\n",
    "            alt.append(r[i] + 10*random.randint(1,5))\n",
    "            alt.append(r[i] + 100*random.randint(1,3))\n",
    "            alt.append(r[i] - 10*random.randint(1,9))\n",
    "            alt.append(r[i] - 10*random.randint(1,5))\n",
    "            alt.append(r[i] - 100*random.randint(1,3))\n",
    "        else:\n",
    "            alt.append(r[i] + 10*random.randint(1,9))\n",
    "            alt.append(r[i] + 100*random.randint(1,5))\n",
    "            alt.append(r[i] + 1000*random.randint(1,2))\n",
    "            alt.append(r[i] - 10*random.randint(1,9))\n",
    "            alt.append(r[i] - 100*random.randint(1,5))\n",
    "            alt.append(r[i] - 1000*random.randint(1,2))\n",
    "        \n",
    "        del(alt[random.randint(0,5)])\n",
    "        del(alt[random.randint(0,4)])\n",
    "        del(alt[random.randint(0,3)])\n",
    "        alt.append(r[i])\n",
    "        random.shuffle(alt)\n",
    "        negativos = len(filter(lambda x: x < 0, alt))\n",
    "        \n",
    "    alt_correta.append(alt.index(r[i]) + 1)\n",
    "    alt1.append(alt[0])\n",
    "    alt2.append(alt[1])\n",
    "    alt3.append(alt[2])\n",
    "    alt4.append(alt[3])\n",
    "    "
   ]
  },
  {
   "cell_type": "code",
   "execution_count": 7,
   "metadata": {},
   "outputs": [],
   "source": [
    "# Colocando questoes no banco\n",
    "import sys  \n",
    "\n",
    "reload(sys)  \n",
    "sys.setdefaultencoding('utf8')\n",
    "\n",
    "for i in range(0,len(c)):\n",
    "    doc_ref = db.collection(u'questoes_mat').document(nome_camada).collection(nome_nivel).document(format(i, \"03\"))\n",
    "    doc_ref.set({\n",
    "        u'camada': camada,\n",
    "        u'nivel': nivel,\n",
    "        u'enunciado': unicode(enunciado[i]),\n",
    "        u'alt_a': unicode('$' + str(alt1[i]) + '$'),\n",
    "        u'alt_b': unicode('$' + str(alt2[i]) + '$'),\n",
    "        u'alt_c': unicode('$' + str(alt3[i]) + '$'),\n",
    "        u'alt_d': unicode('$' + str(alt4[i]) + '$'),\n",
    "        u'alt_correta': alt_correta[i],\n",
    "        u'tentativas': 0,\n",
    "        u'acertos': 0,\n",
    "        u'grupo': 0\n",
    "    })"
   ]
  },
  {
   "cell_type": "code",
   "execution_count": 8,
   "metadata": {},
   "outputs": [],
   "source": [
    "import google\n",
    "\n",
    "doc_ref = db.collection(u'questoes_mat').document(u'mat_bas').collection('subtracao').document(format(10, \"03\"))\n",
    "\n",
    "try:\n",
    "    doc = doc_ref.get()\n",
    "    print(u'Document data: {}'.format(doc.to_dict()))\n",
    "except google.cloud.exceptions.NotFound:\n",
    "    print(u'No such document!')"
   ]
  },
  {
   "cell_type": "code",
   "execution_count": 9,
   "metadata": {},
   "outputs": [],
   "source": [
    "total = len(filter(lambda x: x < 0, [-1, -2, 5, 10])) "
   ]
  },
  {
   "cell_type": "code",
   "execution_count": 10,
   "metadata": {},
   "outputs": [
    {
     "data": {
      "text/plain": [
       "2"
      ]
     },
     "execution_count": 10,
     "metadata": {},
     "output_type": "execute_result"
    }
   ],
   "source": [
    "total"
   ]
  },
  {
   "cell_type": "code",
   "execution_count": 11,
   "metadata": {},
   "outputs": [
    {
     "data": {
      "text/plain": [
       "2"
      ]
     },
     "execution_count": 11,
     "metadata": {},
     "output_type": "execute_result"
    }
   ],
   "source": [
    "random.randint(0,5)"
   ]
  }
 ],
 "metadata": {
  "kernelspec": {
   "display_name": "Python 2",
   "language": "python",
   "name": "python2"
  },
  "language_info": {
   "codemirror_mode": {
    "name": "ipython",
    "version": 2
   },
   "file_extension": ".py",
   "mimetype": "text/x-python",
   "name": "python",
   "nbconvert_exporter": "python",
   "pygments_lexer": "ipython2",
   "version": "2.7.15rc1"
  }
 },
 "nbformat": 4,
 "nbformat_minor": 2
}
